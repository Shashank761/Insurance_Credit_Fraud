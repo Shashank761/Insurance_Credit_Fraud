{
  "nbformat": 4,
  "nbformat_minor": 0,
  "metadata": {
    "colab": {
      "name": "insurance_credit_fraud.ipynb",
      "provenance": [],
      "collapsed_sections": []
    },
    "kernelspec": {
      "name": "python3",
      "display_name": "Python 3"
    }
  },
  "cells": [
    {
      "cell_type": "code",
      "metadata": {
        "id": "EUJ4Mdq69azW"
      },
      "source": [
        "import pandas as pd\n",
        "import matplotlib.pyplot as plt\n",
        "import seaborn as sns \n",
        "import numpy as np\n",
        "%matplotlib inline"
      ],
      "execution_count": 1,
      "outputs": []
    },
    {
      "cell_type": "code",
      "metadata": {
        "id": "RDVx4u8Q91y8"
      },
      "source": [
        "df_train = pd.read_csv(\"train_qnU1GcL.csv\")\n",
        "df_test = pd.read_csv(\"test_LxCaReE_DvdCKVT2_7rMflxW_O46whsi_lVTFXAY_GjPXzPU_eKeNhue - Copy - Copy - Copy.csv\")"
      ],
      "execution_count": 2,
      "outputs": []
    },
    {
      "cell_type": "code",
      "metadata": {
        "id": "YC8ScJZg91wF",
        "outputId": "a758c106-9669-43e2-dccd-5db1054d16f6",
        "colab": {
          "base_uri": "https://localhost:8080/",
          "height": 241
        }
      },
      "source": [
        "df_train.head()"
      ],
      "execution_count": 3,
      "outputs": [
        {
          "output_type": "execute_result",
          "data": {
            "text/html": [
              "<div>\n",
              "<style scoped>\n",
              "    .dataframe tbody tr th:only-of-type {\n",
              "        vertical-align: middle;\n",
              "    }\n",
              "\n",
              "    .dataframe tbody tr th {\n",
              "        vertical-align: top;\n",
              "    }\n",
              "\n",
              "    .dataframe thead th {\n",
              "        text-align: right;\n",
              "    }\n",
              "</style>\n",
              "<table border=\"1\" class=\"dataframe\">\n",
              "  <thead>\n",
              "    <tr style=\"text-align: right;\">\n",
              "      <th></th>\n",
              "      <th>id</th>\n",
              "      <th>perc_premium_paid_by_cash_credit</th>\n",
              "      <th>age_in_days</th>\n",
              "      <th>Income</th>\n",
              "      <th>Count_3-6_months_late</th>\n",
              "      <th>Count_6-12_months_late</th>\n",
              "      <th>Count_more_than_12_months_late</th>\n",
              "      <th>application_underwriting_score</th>\n",
              "      <th>no_of_premiums_paid</th>\n",
              "      <th>sourcing_channel</th>\n",
              "      <th>residence_area_type</th>\n",
              "      <th>target</th>\n",
              "    </tr>\n",
              "  </thead>\n",
              "  <tbody>\n",
              "    <tr>\n",
              "      <th>0</th>\n",
              "      <td>110936</td>\n",
              "      <td>0.429</td>\n",
              "      <td>12058</td>\n",
              "      <td>355060</td>\n",
              "      <td>0.0</td>\n",
              "      <td>0.0</td>\n",
              "      <td>0.0</td>\n",
              "      <td>99.02</td>\n",
              "      <td>13</td>\n",
              "      <td>C</td>\n",
              "      <td>Urban</td>\n",
              "      <td>1</td>\n",
              "    </tr>\n",
              "    <tr>\n",
              "      <th>1</th>\n",
              "      <td>41492</td>\n",
              "      <td>0.010</td>\n",
              "      <td>21546</td>\n",
              "      <td>315150</td>\n",
              "      <td>0.0</td>\n",
              "      <td>0.0</td>\n",
              "      <td>0.0</td>\n",
              "      <td>99.89</td>\n",
              "      <td>21</td>\n",
              "      <td>A</td>\n",
              "      <td>Urban</td>\n",
              "      <td>1</td>\n",
              "    </tr>\n",
              "    <tr>\n",
              "      <th>2</th>\n",
              "      <td>31300</td>\n",
              "      <td>0.917</td>\n",
              "      <td>17531</td>\n",
              "      <td>84140</td>\n",
              "      <td>2.0</td>\n",
              "      <td>3.0</td>\n",
              "      <td>1.0</td>\n",
              "      <td>98.69</td>\n",
              "      <td>7</td>\n",
              "      <td>C</td>\n",
              "      <td>Rural</td>\n",
              "      <td>0</td>\n",
              "    </tr>\n",
              "    <tr>\n",
              "      <th>3</th>\n",
              "      <td>19415</td>\n",
              "      <td>0.049</td>\n",
              "      <td>15341</td>\n",
              "      <td>250510</td>\n",
              "      <td>0.0</td>\n",
              "      <td>0.0</td>\n",
              "      <td>0.0</td>\n",
              "      <td>99.57</td>\n",
              "      <td>9</td>\n",
              "      <td>A</td>\n",
              "      <td>Urban</td>\n",
              "      <td>1</td>\n",
              "    </tr>\n",
              "    <tr>\n",
              "      <th>4</th>\n",
              "      <td>99379</td>\n",
              "      <td>0.052</td>\n",
              "      <td>31400</td>\n",
              "      <td>198680</td>\n",
              "      <td>0.0</td>\n",
              "      <td>0.0</td>\n",
              "      <td>0.0</td>\n",
              "      <td>99.87</td>\n",
              "      <td>12</td>\n",
              "      <td>B</td>\n",
              "      <td>Urban</td>\n",
              "      <td>1</td>\n",
              "    </tr>\n",
              "  </tbody>\n",
              "</table>\n",
              "</div>"
            ],
            "text/plain": [
              "       id  perc_premium_paid_by_cash_credit  ...  residence_area_type  target\n",
              "0  110936                             0.429  ...                Urban       1\n",
              "1   41492                             0.010  ...                Urban       1\n",
              "2   31300                             0.917  ...                Rural       0\n",
              "3   19415                             0.049  ...                Urban       1\n",
              "4   99379                             0.052  ...                Urban       1\n",
              "\n",
              "[5 rows x 12 columns]"
            ]
          },
          "metadata": {
            "tags": []
          },
          "execution_count": 3
        }
      ]
    },
    {
      "cell_type": "code",
      "metadata": {
        "id": "SmjsZn5w91sb",
        "outputId": "1a2f88b9-7314-4993-ed5e-7aa0d9ec9bda",
        "colab": {
          "base_uri": "https://localhost:8080/",
          "height": 241
        }
      },
      "source": [
        "df_test.head()"
      ],
      "execution_count": 4,
      "outputs": [
        {
          "output_type": "execute_result",
          "data": {
            "text/html": [
              "<div>\n",
              "<style scoped>\n",
              "    .dataframe tbody tr th:only-of-type {\n",
              "        vertical-align: middle;\n",
              "    }\n",
              "\n",
              "    .dataframe tbody tr th {\n",
              "        vertical-align: top;\n",
              "    }\n",
              "\n",
              "    .dataframe thead th {\n",
              "        text-align: right;\n",
              "    }\n",
              "</style>\n",
              "<table border=\"1\" class=\"dataframe\">\n",
              "  <thead>\n",
              "    <tr style=\"text-align: right;\">\n",
              "      <th></th>\n",
              "      <th>id</th>\n",
              "      <th>perc_premium_paid_by_cash_credit</th>\n",
              "      <th>age_in_days</th>\n",
              "      <th>Income</th>\n",
              "      <th>Count_3-6_months_late</th>\n",
              "      <th>Count_6-12_months_late</th>\n",
              "      <th>Count_more_than_12_months_late</th>\n",
              "      <th>application_underwriting_score</th>\n",
              "      <th>no_of_premiums_paid</th>\n",
              "      <th>sourcing_channel</th>\n",
              "      <th>residence_area_type</th>\n",
              "    </tr>\n",
              "  </thead>\n",
              "  <tbody>\n",
              "    <tr>\n",
              "      <th>0</th>\n",
              "      <td>649</td>\n",
              "      <td>0.001</td>\n",
              "      <td>27384</td>\n",
              "      <td>51150</td>\n",
              "      <td>0.0</td>\n",
              "      <td>0.0</td>\n",
              "      <td>0.0</td>\n",
              "      <td>99.89</td>\n",
              "      <td>7</td>\n",
              "      <td>A</td>\n",
              "      <td>Rural</td>\n",
              "    </tr>\n",
              "    <tr>\n",
              "      <th>1</th>\n",
              "      <td>81136</td>\n",
              "      <td>0.124</td>\n",
              "      <td>23735</td>\n",
              "      <td>285140</td>\n",
              "      <td>0.0</td>\n",
              "      <td>0.0</td>\n",
              "      <td>0.0</td>\n",
              "      <td>98.93</td>\n",
              "      <td>19</td>\n",
              "      <td>A</td>\n",
              "      <td>Urban</td>\n",
              "    </tr>\n",
              "    <tr>\n",
              "      <th>2</th>\n",
              "      <td>70762</td>\n",
              "      <td>1.000</td>\n",
              "      <td>17170</td>\n",
              "      <td>186030</td>\n",
              "      <td>0.0</td>\n",
              "      <td>0.0</td>\n",
              "      <td>0.0</td>\n",
              "      <td>NaN</td>\n",
              "      <td>2</td>\n",
              "      <td>B</td>\n",
              "      <td>Urban</td>\n",
              "    </tr>\n",
              "    <tr>\n",
              "      <th>3</th>\n",
              "      <td>53935</td>\n",
              "      <td>0.198</td>\n",
              "      <td>16068</td>\n",
              "      <td>123540</td>\n",
              "      <td>0.0</td>\n",
              "      <td>0.0</td>\n",
              "      <td>0.0</td>\n",
              "      <td>99.00</td>\n",
              "      <td>11</td>\n",
              "      <td>B</td>\n",
              "      <td>Rural</td>\n",
              "    </tr>\n",
              "    <tr>\n",
              "      <th>4</th>\n",
              "      <td>15476</td>\n",
              "      <td>0.041</td>\n",
              "      <td>10591</td>\n",
              "      <td>200020</td>\n",
              "      <td>1.0</td>\n",
              "      <td>0.0</td>\n",
              "      <td>0.0</td>\n",
              "      <td>99.17</td>\n",
              "      <td>14</td>\n",
              "      <td>A</td>\n",
              "      <td>Rural</td>\n",
              "    </tr>\n",
              "  </tbody>\n",
              "</table>\n",
              "</div>"
            ],
            "text/plain": [
              "      id  perc_premium_paid_by_cash_credit  ...  sourcing_channel  residence_area_type\n",
              "0    649                             0.001  ...                 A                Rural\n",
              "1  81136                             0.124  ...                 A                Urban\n",
              "2  70762                             1.000  ...                 B                Urban\n",
              "3  53935                             0.198  ...                 B                Rural\n",
              "4  15476                             0.041  ...                 A                Rural\n",
              "\n",
              "[5 rows x 11 columns]"
            ]
          },
          "metadata": {
            "tags": []
          },
          "execution_count": 4
        }
      ]
    },
    {
      "cell_type": "code",
      "metadata": {
        "id": "Pe4ljfd091qP",
        "outputId": "042cdfb9-7a2b-467e-ab05-468a60f36eff",
        "colab": {
          "base_uri": "https://localhost:8080/",
          "height": 34
        }
      },
      "source": [
        "df_train.shape , df_test.shape"
      ],
      "execution_count": 5,
      "outputs": [
        {
          "output_type": "execute_result",
          "data": {
            "text/plain": [
              "((79853, 12), (34224, 11))"
            ]
          },
          "metadata": {
            "tags": []
          },
          "execution_count": 5
        }
      ]
    },
    {
      "cell_type": "code",
      "metadata": {
        "id": "KtrnqH6k91os",
        "outputId": "5e988825-57e1-4639-cbca-8b81f1c44d08",
        "colab": {
          "base_uri": "https://localhost:8080/",
          "height": 119
        }
      },
      "source": [
        "df_train.columns"
      ],
      "execution_count": 6,
      "outputs": [
        {
          "output_type": "execute_result",
          "data": {
            "text/plain": [
              "Index(['id', 'perc_premium_paid_by_cash_credit', 'age_in_days', 'Income',\n",
              "       'Count_3-6_months_late', 'Count_6-12_months_late',\n",
              "       'Count_more_than_12_months_late', 'application_underwriting_score',\n",
              "       'no_of_premiums_paid', 'sourcing_channel', 'residence_area_type',\n",
              "       'target'],\n",
              "      dtype='object')"
            ]
          },
          "metadata": {
            "tags": []
          },
          "execution_count": 6
        }
      ]
    },
    {
      "cell_type": "code",
      "metadata": {
        "id": "deNGmXDI91l6",
        "outputId": "da18310d-70bf-4f71-f346-ba6a13c48ee3",
        "colab": {
          "base_uri": "https://localhost:8080/",
          "height": 102
        }
      },
      "source": [
        "df_test.columns"
      ],
      "execution_count": 7,
      "outputs": [
        {
          "output_type": "execute_result",
          "data": {
            "text/plain": [
              "Index(['id', 'perc_premium_paid_by_cash_credit', 'age_in_days', 'Income',\n",
              "       'Count_3-6_months_late', 'Count_6-12_months_late',\n",
              "       'Count_more_than_12_months_late', 'application_underwriting_score',\n",
              "       'no_of_premiums_paid', 'sourcing_channel', 'residence_area_type'],\n",
              "      dtype='object')"
            ]
          },
          "metadata": {
            "tags": []
          },
          "execution_count": 7
        }
      ]
    },
    {
      "cell_type": "code",
      "metadata": {
        "id": "NXnu928891jZ",
        "outputId": "395fc38f-cf8c-4718-8a4e-aae210a91a5c",
        "colab": {
          "base_uri": "https://localhost:8080/",
          "height": 238
        }
      },
      "source": [
        "df_train.dtypes"
      ],
      "execution_count": 8,
      "outputs": [
        {
          "output_type": "execute_result",
          "data": {
            "text/plain": [
              "id                                    int64\n",
              "perc_premium_paid_by_cash_credit    float64\n",
              "age_in_days                           int64\n",
              "Income                                int64\n",
              "Count_3-6_months_late               float64\n",
              "Count_6-12_months_late              float64\n",
              "Count_more_than_12_months_late      float64\n",
              "application_underwriting_score      float64\n",
              "no_of_premiums_paid                   int64\n",
              "sourcing_channel                     object\n",
              "residence_area_type                  object\n",
              "target                                int64\n",
              "dtype: object"
            ]
          },
          "metadata": {
            "tags": []
          },
          "execution_count": 8
        }
      ]
    },
    {
      "cell_type": "code",
      "metadata": {
        "id": "0IQH-bfF91gU",
        "outputId": "d62fdb8e-a91e-43a7-cd6c-73a36c787eb8",
        "colab": {
          "base_uri": "https://localhost:8080/",
          "height": 238
        }
      },
      "source": [
        "df_train.isnull().sum()"
      ],
      "execution_count": 9,
      "outputs": [
        {
          "output_type": "execute_result",
          "data": {
            "text/plain": [
              "id                                     0\n",
              "perc_premium_paid_by_cash_credit       0\n",
              "age_in_days                            0\n",
              "Income                                 0\n",
              "Count_3-6_months_late                 97\n",
              "Count_6-12_months_late                97\n",
              "Count_more_than_12_months_late        97\n",
              "application_underwriting_score      2974\n",
              "no_of_premiums_paid                    0\n",
              "sourcing_channel                       0\n",
              "residence_area_type                    0\n",
              "target                                 0\n",
              "dtype: int64"
            ]
          },
          "metadata": {
            "tags": []
          },
          "execution_count": 9
        }
      ]
    },
    {
      "cell_type": "code",
      "metadata": {
        "id": "bFqejTCa91d-",
        "outputId": "28298dd7-6807-461a-819d-1a41a89153e2",
        "colab": {
          "base_uri": "https://localhost:8080/",
          "height": 221
        }
      },
      "source": [
        "df_test.isnull().sum()"
      ],
      "execution_count": 10,
      "outputs": [
        {
          "output_type": "execute_result",
          "data": {
            "text/plain": [
              "id                                     0\n",
              "perc_premium_paid_by_cash_credit       0\n",
              "age_in_days                            0\n",
              "Income                                 0\n",
              "Count_3-6_months_late                 31\n",
              "Count_6-12_months_late                31\n",
              "Count_more_than_12_months_late        31\n",
              "application_underwriting_score      1323\n",
              "no_of_premiums_paid                    0\n",
              "sourcing_channel                       0\n",
              "residence_area_type                    0\n",
              "dtype: int64"
            ]
          },
          "metadata": {
            "tags": []
          },
          "execution_count": 10
        }
      ]
    },
    {
      "cell_type": "code",
      "metadata": {
        "id": "8e0O4uay91bz",
        "outputId": "c9f34de0-f124-4ef6-bf8b-27a47e859a23",
        "colab": {
          "base_uri": "https://localhost:8080/",
          "height": 508
        }
      },
      "source": [
        "cor = df_train.corr()\n",
        "mask_data = np.array(cor)\n",
        "mask_data[np.tril_indices_from(mask_data)] = False\n",
        "fig , ax = plt.subplots(1,figsize = (10,5))\n",
        "sns.heatmap(cor,annot=True,mask=mask_data,ax=ax,cmap='YlGnBu')"
      ],
      "execution_count": 11,
      "outputs": [
        {
          "output_type": "execute_result",
          "data": {
            "text/plain": [
              "<matplotlib.axes._subplots.AxesSubplot at 0x7fa40b9febe0>"
            ]
          },
          "metadata": {
            "tags": []
          },
          "execution_count": 11
        },
        {
          "output_type": "display_data",
          "data": {
            "image/png": "[encoded data removed]",
            "text/plain": [
              "<Figure size 720x360 with 2 Axes>"
            ]
          },
          "metadata": {
            "tags": [],
            "needs_background": "light"
          }
        }
      ]
    },
    {
      "cell_type": "code",
      "metadata": {
        "id": "O_EQUWaT91bE"
      },
      "source": [
        "df_train.drop(['application_underwriting_score'],axis=1,inplace=True)\n",
        "df_test.drop(['application_underwriting_score'],axis=1,inplace=True)\n"
      ],
      "execution_count": 12,
      "outputs": []
    },
    {
      "cell_type": "code",
      "metadata": {
        "id": "6eF85BP7P1pL",
        "outputId": "eb52364b-ffbd-4697-e607-50f3611b1fc0",
        "colab": {
          "base_uri": "https://localhost:8080/",
          "height": 298
        }
      },
      "source": [
        "df_train['Count_3-6_months_late'].value_counts().plot.bar()"
      ],
      "execution_count": 13,
      "outputs": [
        {
          "output_type": "execute_result",
          "data": {
            "text/plain": [
              "<matplotlib.axes._subplots.AxesSubplot at 0x7fa4073afe10>"
            ]
          },
          "metadata": {
            "tags": []
          },
          "execution_count": 13
        },
        {
          "output_type": "display_data",
          "data": {
            "image/png": "[encoded data removed]",
            "text/plain": [
              "<Figure size 432x288 with 1 Axes>"
            ]
          },
          "metadata": {
            "tags": [],
            "needs_background": "light"
          }
        }
      ]
    },
    {
      "cell_type": "code",
      "metadata": {
        "id": "gsUZi1Z4_UM2"
      },
      "source": [
        "for column in ['Count_3-6_months_late','Count_6-12_months_late','Count_more_than_12_months_late']:\n",
        "  df_train[column].fillna(df_train[column].mode()[0], inplace=True)\n",
        "  df_test[column].fillna(df_test[column].mode()[0], inplace=True)\n"
      ],
      "execution_count": 14,
      "outputs": []
    },
    {
      "cell_type": "code",
      "metadata": {
        "id": "yP8ZZonoBAV6",
        "outputId": "04c38502-3548-4239-e1f1-2b25ef4181a9",
        "colab": {
          "base_uri": "https://localhost:8080/",
          "height": 221
        }
      },
      "source": [
        "df_train.isnull().sum()"
      ],
      "execution_count": 15,
      "outputs": [
        {
          "output_type": "execute_result",
          "data": {
            "text/plain": [
              "id                                  0\n",
              "perc_premium_paid_by_cash_credit    0\n",
              "age_in_days                         0\n",
              "Income                              0\n",
              "Count_3-6_months_late               0\n",
              "Count_6-12_months_late              0\n",
              "Count_more_than_12_months_late      0\n",
              "no_of_premiums_paid                 0\n",
              "sourcing_channel                    0\n",
              "residence_area_type                 0\n",
              "target                              0\n",
              "dtype: int64"
            ]
          },
          "metadata": {
            "tags": []
          },
          "execution_count": 15
        }
      ]
    },
    {
      "cell_type": "code",
      "metadata": {
        "id": "5rqL079lBIWt"
      },
      "source": [
        ""
      ],
      "execution_count": 15,
      "outputs": []
    },
    {
      "cell_type": "code",
      "metadata": {
        "id": "o9aN44ofzDN2"
      },
      "source": [
        "submission_1 = pd.DataFrame()"
      ],
      "execution_count": 16,
      "outputs": []
    },
    {
      "cell_type": "code",
      "metadata": {
        "id": "bGWesh-UzPda"
      },
      "source": [
        "submission_1['id'] = df_test['id']"
      ],
      "execution_count": 17,
      "outputs": []
    },
    {
      "cell_type": "code",
      "metadata": {
        "id": "eseX07ihzugQ"
      },
      "source": [
        "df_train.drop(['id','residence_area_type'],axis=1,inplace=True)\n",
        "df_test.drop(['id','residence_area_type'],axis=1,inplace=True)"
      ],
      "execution_count": 18,
      "outputs": []
    },
    {
      "cell_type": "code",
      "metadata": {
        "id": "a_Dxi1LTIgZt",
        "outputId": "1f07c396-0116-4284-a7ea-30e3a819e6f2",
        "colab": {
          "base_uri": "https://localhost:8080/",
          "height": 508
        }
      },
      "source": [
        "cor = df_train.corr()\n",
        "mask_data = np.array(cor)\n",
        "mask_data[np.tril_indices_from(mask_data)] = False\n",
        "fig , ax = plt.subplots(1,figsize = (10,5))\n",
        "sns.heatmap(cor,annot=True,mask=mask_data,ax=ax,cmap='YlGnBu')"
      ],
      "execution_count": 19,
      "outputs": [
        {
          "output_type": "execute_result",
          "data": {
            "text/plain": [
              "<matplotlib.axes._subplots.AxesSubplot at 0x7fa4072da128>"
            ]
          },
          "metadata": {
            "tags": []
          },
          "execution_count": 19
        },
        {
          "output_type": "display_data",
          "data": {
            "image/png": "[encoded data removed]",
            "text/plain": [
              "<Figure size 720x360 with 2 Axes>"
            ]
          },
          "metadata": {
            "tags": [],
            "needs_background": "light"
          }
        }
      ]
    },
    {
      "cell_type": "code",
      "metadata": {
        "id": "hGNMjQox91XZ",
        "outputId": "0620b618-dbe3-4921-ba86-c8526a0391e8",
        "colab": {
          "base_uri": "https://localhost:8080/",
          "height": 34
        }
      },
      "source": [
        "df_test.shape,df_train.shape"
      ],
      "execution_count": 20,
      "outputs": [
        {
          "output_type": "execute_result",
          "data": {
            "text/plain": [
              "((34224, 8), (79853, 9))"
            ]
          },
          "metadata": {
            "tags": []
          },
          "execution_count": 20
        }
      ]
    },
    {
      "cell_type": "code",
      "metadata": {
        "id": "oo6JRH11U7_V"
      },
      "source": [
        "from sklearn import preprocessing \n",
        "label_encoder = preprocessing.LabelEncoder()\n",
        "df_train['sourcing_channel']= label_encoder.fit_transform(df_train['sourcing_channel'])\n",
        "# df_train['residence_area_type']= label_encoder.fit_transform(df_train['residence_area_type'])"
      ],
      "execution_count": 21,
      "outputs": []
    },
    {
      "cell_type": "code",
      "metadata": {
        "id": "HN7wkJnDYDuQ"
      },
      "source": [
        "from sklearn import preprocessing \n",
        "label_encoder = preprocessing.LabelEncoder()\n",
        "df_test['sourcing_channel']= label_encoder.fit_transform(df_test['sourcing_channel'])\n",
        "# df_test['residence_area_type']= label_encoder.fit_transform(df_test['residence_area_type'])"
      ],
      "execution_count": 22,
      "outputs": []
    },
    {
      "cell_type": "code",
      "metadata": {
        "id": "RT2lGb_9Q3y9"
      },
      "source": [
        "trainning_x = df_train.iloc[:,:-1] \n",
        "trainning_y = df_train.iloc[:,-1]\n",
        "x_test = df_test.iloc[:,:]"
      ],
      "execution_count": 23,
      "outputs": []
    },
    {
      "cell_type": "code",
      "metadata": {
        "id": "bNXKhXvx91Up"
      },
      "source": [
        "from sklearn.model_selection import train_test_split\n",
        "x_train , x_val , y_train , y_val = train_test_split(trainning_x , trainning_y ,test_size = 0.2 , random_state = 0)"
      ],
      "execution_count": 24,
      "outputs": []
    },
    {
      "cell_type": "code",
      "metadata": {
        "id": "jAVjukvH91Sg",
        "outputId": "b8e08712-af83-41ed-956c-45550f4d8c74",
        "colab": {
          "base_uri": "https://localhost:8080/",
          "height": 34
        }
      },
      "source": [
        "x_train.shape , x_val.shape , y_train.shape , y_val.shape , x_test.shape"
      ],
      "execution_count": 25,
      "outputs": [
        {
          "output_type": "execute_result",
          "data": {
            "text/plain": [
              "((63882, 8), (15971, 8), (63882,), (15971,), (34224, 8))"
            ]
          },
          "metadata": {
            "tags": []
          },
          "execution_count": 25
        }
      ]
    },
    {
      "cell_type": "code",
      "metadata": {
        "id": "khu-kvhJ91QZ"
      },
      "source": [
        "from sklearn.tree import DecisionTreeClassifier\n",
        "clf = DecisionTreeClassifier( criterion='entropy')"
      ],
      "execution_count": 26,
      "outputs": []
    },
    {
      "cell_type": "code",
      "metadata": {
        "id": "pAttFz-skayY"
      },
      "source": [
        "# from sklearn.linear_model import LogisticRegression\n",
        "# clf = LogisticRegression(random_state=0, max_iter=100, verbose=0, n_jobs=-1)"
      ],
      "execution_count": 27,
      "outputs": []
    },
    {
      "cell_type": "code",
      "metadata": {
        "id": "fWZmDc_A91PE",
        "outputId": "b81b5d83-3603-4f13-dd99-c59e7485941d",
        "colab": {
          "base_uri": "https://localhost:8080/",
          "height": 119
        }
      },
      "source": [
        "clf.fit(x_train,y_train)"
      ],
      "execution_count": 28,
      "outputs": [
        {
          "output_type": "execute_result",
          "data": {
            "text/plain": [
              "DecisionTreeClassifier(ccp_alpha=0.0, class_weight=None, criterion='entropy',\n",
              "                       max_depth=None, max_features=None, max_leaf_nodes=None,\n",
              "                       min_impurity_decrease=0.0, min_impurity_split=None,\n",
              "                       min_samples_leaf=1, min_samples_split=2,\n",
              "                       min_weight_fraction_leaf=0.0, presort='deprecated',\n",
              "                       random_state=None, splitter='best')"
            ]
          },
          "metadata": {
            "tags": []
          },
          "execution_count": 28
        }
      ]
    },
    {
      "cell_type": "code",
      "metadata": {
        "id": "74ilQk2f91L_"
      },
      "source": [
        "pred_train = clf.predict(x_train)\n",
        "pred_val = clf.predict(x_val)\n",
        "pred_test = clf.predict(x_test)"
      ],
      "execution_count": 29,
      "outputs": []
    },
    {
      "cell_type": "code",
      "metadata": {
        "id": "PTisFBrs91Js",
        "outputId": "309c973d-379f-4d94-b500-9ea4c9b7592d",
        "colab": {
          "base_uri": "https://localhost:8080/",
          "height": 85
        }
      },
      "source": [
        "from sklearn.metrics import accuracy_score,confusion_matrix,roc_auc_score\n",
        "cm = confusion_matrix(y_train,pred_train)\n",
        "print(cm)\n",
        "print(accuracy_score(y_train,pred_train))\n",
        "print(roc_auc_score(y_train,pred_train))"
      ],
      "execution_count": 30,
      "outputs": [
        {
          "output_type": "stream",
          "text": [
            "[[ 4021     0]\n",
            " [    0 59861]]\n",
            "1.0\n",
            "1.0\n"
          ],
          "name": "stdout"
        }
      ]
    },
    {
      "cell_type": "code",
      "metadata": {
        "id": "jCDT1kBw91G4",
        "outputId": "55899c31-8f30-46c4-9511-9036d95a9039",
        "colab": {
          "base_uri": "https://localhost:8080/",
          "height": 68
        }
      },
      "source": [
        "cm = confusion_matrix(y_val,pred_val)\n",
        "print(cm)\n",
        "print(accuracy_score(y_val,pred_val))\n",
        "#print(roc_auc_score(y_val,pred_val))"
      ],
      "execution_count": 31,
      "outputs": [
        {
          "output_type": "stream",
          "text": [
            "[[  228   749]\n",
            " [  898 14096]]\n",
            "0.8968755870014401\n"
          ],
          "name": "stdout"
        }
      ]
    },
    {
      "cell_type": "code",
      "metadata": {
        "id": "11kiCTQfyZh2"
      },
      "source": [
        "submission_1['target'] = pred_test"
      ],
      "execution_count": 32,
      "outputs": []
    },
    {
      "cell_type": "code",
      "metadata": {
        "id": "XOiSHCxV91CO"
      },
      "source": [
        "# submission_1.to_csv('submission_1.csv', header=True, index=False)"
      ],
      "execution_count": 33,
      "outputs": []
    },
    {
      "cell_type": "code",
      "metadata": {
        "id": "p38ZrqJM90_R"
      },
      "source": [
        ""
      ],
      "execution_count": 33,
      "outputs": []
    }
  ]
}